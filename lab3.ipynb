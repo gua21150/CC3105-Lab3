{
 "cells": [
  {
   "cell_type": "markdown",
   "id": "7362e259",
   "metadata": {},
   "source": [
    "# Laboratorio 3\n",
    "Diana Díaz 21066\n",
    "Mariel Guamuche 21150"
   ]
  },
  {
   "cell_type": "markdown",
   "id": "625836c9",
   "metadata": {},
   "source": [
    "## Configuración del entorno\n",
    "1.1 Instalación de Dependencias "
   ]
  },
  {
   "cell_type": "code",
   "execution_count": null,
   "id": "fe7c2581",
   "metadata": {},
   "outputs": [],
   "source": [
    "!pip install mlflow feast scikit-learn pandas numpy matplotlib seaborn"
   ]
  },
  {
   "cell_type": "markdown",
   "id": "56163ee5",
   "metadata": {},
   "source": [
    "1.2 Verificación de instalación"
   ]
  },
  {
   "cell_type": "code",
   "execution_count": null,
   "id": "f9be901c",
   "metadata": {},
   "outputs": [],
   "source": [
    "import mlflow\n",
    "import feast\n",
    "import pandas as pd\n",
    "import numpy as np\n",
    "import matplotlib.pyplot as plt\n",
    "import seaborn as sns\n",
    "import sklearn\n",
    "\n",
    "print(\"mlflow.__version__\", mlflow.__version__)\n",
    "print(\"feast.__version__\", feast.__version__)"
   ]
  },
  {
   "cell_type": "markdown",
   "id": "4f32738a",
   "metadata": {},
   "source": [
    "## 2 Carga y exploración de datos"
   ]
  },
  {
   "cell_type": "markdown",
   "id": "a015f4f4",
   "metadata": {},
   "source": [
    "2.1 Carga del dataset"
   ]
  },
  {
   "cell_type": "code",
   "execution_count": null,
   "id": "ac1fdd0b",
   "metadata": {},
   "outputs": [],
   "source": [
    "from sklearn.datasets import fetch_california_housing\n",
    "# Cargar el dataset de California Housing\n",
    "data = fetch_california_housing(as_frame=True)\n",
    "df = data.frame\n",
    "# Mostrar las primeras filas del DataFrame\n",
    "df.head()"
   ]
  },
  {
   "cell_type": "code",
   "execution_count": null,
   "id": "95a8e396",
   "metadata": {},
   "outputs": [],
   "source": [
    "# Convertir las columnas con nombre de columnas\n",
    "df.rename(columns={\n",
    "    'MedInc': 'ingresos_medios',\n",
    "    'HouseAge': 'promedio_edad_casas',\n",
    "    'AveRooms': 'promedio_num_habitaciones',\n",
    "    'AveBedrms': 'promedio_num_dormitorios',\n",
    "    'Population': 'poblacion_distrito',\n",
    "    'AveOccup': 'promedio_personas_casa',\n",
    "    'Latitude': 'latitud',\n",
    "    'Longitude': 'longitude',\n",
    "    'MedHouseVal': 'target_valor_medio_casa'\n",
    "}, inplace=True)   \n",
    "# Mostrar las primeras filas del DataFrame con nombres modificados\n",
    "df.head()"
   ]
  },
  {
   "cell_type": "code",
   "execution_count": null,
   "id": "d297f13e",
   "metadata": {},
   "outputs": [],
   "source": [
    "# información básica del DataFrame\n",
    "df.shape"
   ]
  },
  {
   "cell_type": "code",
   "execution_count": null,
   "id": "725a40f7",
   "metadata": {},
   "outputs": [],
   "source": [
    "# información básica del DataFrame\n",
    "df.info()"
   ]
  },
  {
   "cell_type": "markdown",
   "id": "08680298",
   "metadata": {},
   "source": [
    "Los tipos de datos son congruentes a las variables\n",
    "\n",
    "2.2 Análisis exploratorio"
   ]
  },
  {
   "cell_type": "code",
   "execution_count": null,
   "id": "05f4d670",
   "metadata": {},
   "outputs": [],
   "source": [
    "# descripción estadística del DataFrame\n",
    "df.describe()"
   ]
  },
  {
   "cell_type": "code",
   "execution_count": null,
   "id": "3ce09e6a",
   "metadata": {},
   "outputs": [],
   "source": [
    "# Cantidad de valores nulos por columna\n",
    "df.isnull().sum()"
   ]
  },
  {
   "cell_type": "markdown",
   "id": "fc7ce60a",
   "metadata": {},
   "source": [
    "El dataset pareciera no presentar problemas. Hay que verificar la distribución en la cantidad de habitaciones y dormitorios, ya que pareciera haber outlayers"
   ]
  },
  {
   "cell_type": "code",
   "execution_count": null,
   "id": "54b5ddeb",
   "metadata": {},
   "outputs": [],
   "source": [
    "# Boxplots para detectar outliers\n",
    "plt.figure(figsize=(15, 10))\n",
    "for i, column in enumerate(df.columns, 1):\n",
    "    plt.subplot(3, 3, i)\n",
    "    sns.boxplot(y=df[column])\n",
    "    plt.title(f'Boxplot de {column}')\n",
    "plt.tight_layout()\n",
    "plt.show()"
   ]
  },
  {
   "cell_type": "markdown",
   "id": "680cc4a0",
   "metadata": {},
   "source": [
    "- Los ingresos_medios presentan una distribución sesgada a la derecha; hay outlayers a partir de 10K USD.\n",
    "- promedio_edad_casas presenta muchos outliers; presentando localizaciones con más de 100 habitaciones en promedio.\n",
    "- promedio_num_dormitorios presenta sesgo, con outliers al igual que la variable anterior.\n",
    "- poblacion_distriro alta concentración en valores bajos y algunso distritos con poblaciones con alta concentración de personas.\n",
    "- promedio_personas_casa presenta sesgo, con valores poco razonables de la cantidad de personas que pueden habitar en una vivienda.\n",
    "- target_valor_medio_casas: distribución moderadamente sesgada a la derecha, con pocos outliers.\n",
    "\n",
    "Es evidente que 5 de las 9 variables tienen outlayers, dependiendo de los modelos podría convenir eliminar los outliers en especial con el de regresión lineal. Se realizará este filtrado en las variables de habitaciones y de población "
   ]
  },
  {
   "cell_type": "code",
   "execution_count": null,
   "id": "7f038078",
   "metadata": {},
   "outputs": [],
   "source": [
    "# Matriz de correlación\n",
    "plt.figure(figsize=(10, 8))\n",
    "correlation_matrix = df.corr() \n",
    "sns.heatmap(correlation_matrix, annot=True, cmap='coolwarm', fmt=\".2f\")\n",
    "plt.title('Matriz de Correlación')\n",
    "plt.show()"
   ]
  },
  {
   "cell_type": "markdown",
   "id": "828fbe9c",
   "metadata": {},
   "source": [
    "Las relaciones entre las variables, son fuerte entre las de carácter económico (ingresos_medios y target_valor_medio_casa), las de localización geográfica (latitud y longitud) y las de habitaciones (promedio_num_habitaciones y promedio_num_dormitorios)"
   ]
  },
  {
   "cell_type": "markdown",
   "id": "a298c77d",
   "metadata": {},
   "source": [
    "## 3. Preparación de datos\n",
    "3.0 Eliminación de outliers"
   ]
  },
  {
   "cell_type": "code",
   "execution_count": null,
   "id": "548b8de5",
   "metadata": {},
   "outputs": [],
   "source": [
    "filt = (\n",
    "    (df[\"promedio_num_habitaciones\"] < 50) &   # evitar promedios irreales\n",
    "    (df[\"promedio_personas_casa\"]   < 15) &    # evitar divisiones pequeñas\n",
    "    (df[\"promedio_num_dormitorios\"] < 10)      # por coherencia con habitaciones\n",
    ")\n",
    "df_clean = df.loc[filt].reset_index(drop=True)\n",
    "print(df.shape, \"->\", df_clean.shape)\n",
    "df_clean.describe()"
   ]
  },
  {
   "cell_type": "markdown",
   "id": "1428788a",
   "metadata": {},
   "source": [
    "3.1 Feature engineering\n",
    "Las variables que implementarán son:\n",
    "- ratio_habitaciones_hogar indica el tamaño medio del hogar por persona (espacio disponible), se pensaría que las zonas con más espacio por persona tienen precios más altos\n",
    "- ratio_habitaciones_poblacion es la densidad de habitaciones por cantidad total de personas.\n",
    "- ratio_dormitorios_habitacion es la proporción de dormitorios respecto a habitaciones totales\n",
    "- ingreso_persona es el nivel de ingreso ajustado por cantidad promedio de personas"
   ]
  },
  {
   "cell_type": "code",
   "execution_count": null,
   "id": "6ddd7b1b",
   "metadata": {},
   "outputs": [],
   "source": [
    "# Ratios espaciales y socioeconómicos\n",
    "df_clean[\"ratio_habitaciones_hogar\"] = (\n",
    "    df_clean[\"promedio_num_habitaciones\"] / df_clean[\"promedio_personas_casa\"]\n",
    ")\n",
    "\n",
    "df_clean[\"ratio_habitaciones_poblacion\"] = (\n",
    "    df_clean[\"promedio_num_habitaciones\"] / df_clean[\"poblacion_distrito\"]\n",
    ")\n",
    "\n",
    "df_clean[\"ratio_dormitorios_habitacion\"] = (\n",
    "    df_clean[\"promedio_num_dormitorios\"] / df_clean[\"promedio_num_habitaciones\"]\n",
    ")\n",
    "\n",
    "df_clean[\"ingreso_persona\"] = (\n",
    "    df_clean[\"ingresos_medios\"] / df_clean[\"promedio_personas_casa\"]\n",
    ")\n",
    "\n",
    "# Reemplazar valores infinitos o nulos por mediana\n",
    "df_clean.replace([np.inf, -np.inf], np.nan, inplace=True)\n",
    "df_clean.fillna(df_clean.median(numeric_only=True), inplace=True)"
   ]
  },
  {
   "cell_type": "markdown",
   "id": "c750ecf9",
   "metadata": {},
   "source": [
    "3.2 División de datos\n",
    "\n",
    "Este punto se ha realizado después y no antes de definir las features por simplicidad"
   ]
  },
  {
   "cell_type": "code",
   "execution_count": null,
   "id": "d942e306",
   "metadata": {},
   "outputs": [],
   "source": [
    "from sklearn.model_selection import train_test_split\n",
    "# Separar características y variable objetivo\n",
    "X = df_clean.drop('target_valor_medio_casa', axis=1)\n",
    "y = df_clean['target_valor_medio_casa']\n",
    "\n",
    "# Dividir los datos en conjuntos de entrenamiento y prueba\n",
    "X_train, X_test, y_train, y_test = train_test_split(X, y, test_size=0.2, random_state=42)\n",
    "print(\"Tamaño del conjunto de entrenamiento:\", X_train.shape)\n",
    "print(\"Tamaño del conjunto de prueba:\", X_test.shape)\n",
    "print(\"Tamaño del conjunto de entrenamiento (y):\", y_train.shape)\n",
    "print(\"Tamaño del conjunto de prueba (y):\", y_test.shape)"
   ]
  },
  {
   "cell_type": "markdown",
   "id": "23dd9338",
   "metadata": {},
   "source": [
    "## 4. Experimentación con MLFlow\n",
    "4.1 Configuración de MLFlow\n",
    "\n",
    "Se ha decidido conectar con databricks"
   ]
  },
  {
   "cell_type": "code",
   "execution_count": null,
   "id": "fafceffb",
   "metadata": {},
   "outputs": [],
   "source": [
    "import mlflow.sklearn\n",
    "import mlflow\n",
    "\n",
    "# configurar tracking URI de MLFlow\n",
    "mlflow.set_tracking_uri(uri=\"http://127.0.0.1:5000\")\n",
    "print(\"Tracking URI:\", mlflow.get_tracking_uri())"
   ]
  },
  {
   "cell_type": "code",
   "execution_count": null,
   "id": "37ce8ad3",
   "metadata": {},
   "outputs": [],
   "source": [
    "# Crear el experimento \n",
    "mlflow.set_experiment(\"california-housing-prediction\")"
   ]
  },
  {
   "cell_type": "markdown",
   "id": "ae085b01",
   "metadata": {},
   "source": [
    "4.2 Entrenamiento de Modelos\n",
    "\n",
    "Se utilizarán los modelos de regresión lineal, random forest regressor y gradient boosting regressor"
   ]
  },
  {
   "cell_type": "code",
   "execution_count": null,
   "id": "687aa75c",
   "metadata": {},
   "outputs": [],
   "source": [
    "from sklearn.linear_model import LinearRegression\n",
    "from sklearn.ensemble import RandomForestRegressor, GradientBoostingRegressor\n",
    "from sklearn.metrics import root_mean_squared_error, mean_absolute_error, r2_score\n",
    "\n",
    "# Función de entrenamiento y logging\n",
    "def train_and_log(model, model_name, params=None):\n",
    "    with mlflow.start_run(run_name=model_name):\n",
    "        if params:\n",
    "            mlflow.log_params(params)\n",
    "        model.fit(X_train, y_train)\n",
    "        preds = model.predict(X_test)\n",
    "\n",
    "        metrics = {\n",
    "            \"RMSE\": root_mean_squared_error(y_test, preds),\n",
    "            \"MAE\": mean_absolute_error(y_test, preds),\n",
    "            \"R2\": r2_score(y_test, preds)\n",
    "        }\n",
    "\n",
    "        mlflow.log_metrics(metrics)\n",
    "        mlflow.sklearn.log_model(model, model_name)\n",
    "        print(f\"{model_name} ->\", metrics)\n",
    "        return model, metrics\n",
    "\n",
    "# Entrenamiento de tres modelos\n",
    "lin_params = {}\n",
    "rf_params = {\"n_estimators\": 300, \"max_depth\": 12, \"random_state\": 42}\n",
    "gb_params = {\"n_estimators\": 300, \"learning_rate\": 0.05, \"max_depth\": 3, \"random_state\": 42}\n",
    "\n",
    "model_lin, metrics_lin = train_and_log(LinearRegression(), \"LinearRegression\", lin_params)\n",
    "model_rf, metrics_rf = train_and_log(RandomForestRegressor(**rf_params), \"RandomForestRegressor\", rf_params)\n",
    "model_gb, metrics_gb = train_and_log(GradientBoostingRegressor(**gb_params), \"GradientBoostingRegressor\", gb_params)"
   ]
  }
 ],
 "metadata": {
  "kernelspec": {
   "display_name": "Python 3",
   "language": "python",
   "name": "python3"
  },
  "language_info": {
   "codemirror_mode": {
    "name": "ipython",
    "version": 3
   },
   "file_extension": ".py",
   "mimetype": "text/x-python",
   "name": "python",
   "nbconvert_exporter": "python",
   "pygments_lexer": "ipython3",
   "version": "3.12.3"
  }
 },
 "nbformat": 4,
 "nbformat_minor": 5
}
